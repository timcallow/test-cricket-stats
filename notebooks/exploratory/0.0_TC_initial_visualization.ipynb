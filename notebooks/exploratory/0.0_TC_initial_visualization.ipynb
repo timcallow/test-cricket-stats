{
 "cells": [
  {
   "cell_type": "markdown",
   "id": "4f395381",
   "metadata": {},
   "source": [
    "# Initial data visualization\n",
    "\n",
    "In this notebook, we shall do some exploratory data analysis. We shall explore how the different factors such as who plays at home, the toss and relative rankings influence the results. We do not do any formal statistical analysis in this notebook."
   ]
  },
  {
   "cell_type": "code",
   "execution_count": null,
   "id": "2de96248",
   "metadata": {},
   "outputs": [],
   "source": [
    "# start by loading the key packages\n",
    "import numpy as np\n",
    "import pandas as pd\n",
    "import matplotlib.pyplot as plt"
   ]
  },
  {
   "cell_type": "code",
   "execution_count": null,
   "id": "4fa7c71d",
   "metadata": {},
   "outputs": [],
   "source": []
  },
  {
   "cell_type": "markdown",
   "id": "9814d3da",
   "metadata": {},
   "source": [
    "## Impact of playing at home vs away\n",
    "\n",
    "In the following we consider the impact of playing at home or away on the final result."
   ]
  },
  {
   "cell_type": "code",
   "execution_count": null,
   "id": "c8856995",
   "metadata": {},
   "outputs": [],
   "source": [
    "# get the number of home, away wins and draws\n",
    "n_home_wins = df_main[df_main.result == \"home\"].shape[0]\n",
    "n_away_wins = df_main[df_main.result == \"away\"].shape[0]\n",
    "n_draws = df_main[df_main.result == \"draw\"].shape[0]\n",
    "n_tot = df_main.shape[0]\n",
    "\n",
    "# print the data\n",
    "print(\"Number of home wins = \", n_home_wins)\n",
    "print(\"Number of away wins = \", n_away_wins)\n",
    "print(\"Number of draws = \", n_draws)"
   ]
  },
  {
   "cell_type": "code",
   "execution_count": null,
   "id": "9e7f59cc",
   "metadata": {},
   "outputs": [],
   "source": [
    "# plot the data\n",
    "x_array = np.array([-1,0,1]) # arbitrary units for x-axis\n",
    "xshift = 0.3\n",
    "y_array = [n_home_wins, n_draws, n_away_wins] # results to be plotted\n",
    "# calculate the \"expected number\" for each outcome assuming equal probability\n",
    "y0_array = [n_tot/3, n_tot/3, n_tot/3]\n",
    "plt.bar(x_array, y_array, width=0.3, color='b', alpha=0.5)\n",
    "plt.bar(x_array+xshift, y0_array, width=0.3, color='r', alpha=0.5)\n",
    "\n",
    "#labels for axes etc\n",
    "xlocs = [-0.85, 0.15, 1.15]\n",
    "xlabs = [\"home wins\", \"draws\", \"away wins\"]\n",
    "plt.xticks(xlocs, xlabs)\n",
    "plt.ylabel(\"N outcomes\")\n",
    "\n",
    "plt.show()"
   ]
  },
  {
   "cell_type": "markdown",
   "id": "babfdbf5",
   "metadata": {},
   "source": [
    "It might also be insightful to remove draws from the dataset to see how many matches are won / lost playing at home."
   ]
  },
  {
   "cell_type": "code",
   "execution_count": null,
   "id": "80000993",
   "metadata": {},
   "outputs": [],
   "source": [
    "# number of matches without a draw\n",
    "tot_no_draws = tot - n_draws\n",
    "x_arr = np.array([0,1])\n",
    "y_arr = np.array([n_home_wins, n_away_wins])\n",
    "y0_arr = np.array([tot_no_draws/2, tot_no_draws/2])                \n",
    "\n",
    "plt.bar(x_arr, y_arr, width=0.3, color='b', alpha=0.5)\n",
    "plt.bar(x_arr+xshift, y0_arr, width=0.3, color='r', alpha=0.5)\n",
    "\n",
    "#labels for axes etc\n",
    "xlocs = [0.15, 1.15]\n",
    "xlabs = [\"home wins\", \"away wins\"]\n",
    "plt.xticks(xlocs, xlabs)\n",
    "plt.ylabel(\"N outcomes\")\n",
    "\n",
    "plt.show()"
   ]
  },
  {
   "cell_type": "code",
   "execution_count": null,
   "id": "d1d9faac",
   "metadata": {},
   "outputs": [],
   "source": [
    "n_hw_ht = df_main[(df_main.result == \"home\") & (df_main.toss == \"home\")].shape[0]\n",
    "n_hw_at = df_main[(df_main.result == \"home\") & (df_main.toss == \"away\")].shape[0]\n",
    "n_aw_ht = df_main[(df_main.result == \"away\") & (df_main.toss == \"home\")].shape[0]\n",
    "n_aw_at = df_main[(df_main.result == \"away\") & (df_main.toss == \"away\")].shape[0]"
   ]
  },
  {
   "cell_type": "code",
   "execution_count": null,
   "id": "35af683d",
   "metadata": {},
   "outputs": [],
   "source": [
    "print(n_hw_ht, n_hw_at, n_aw_ht, n_aw_at)"
   ]
  },
  {
   "cell_type": "code",
   "execution_count": null,
   "id": "d788cbe0",
   "metadata": {},
   "outputs": [],
   "source": [
    "n_mw_tw = n_hw_ht + n_aw_at\n",
    "n_mw_tl = n_aw_ht + n_hw_at\n",
    "print(n_mw_tw, n_mw_tl)"
   ]
  },
  {
   "cell_type": "code",
   "execution_count": null,
   "id": "63a42eff",
   "metadata": {},
   "outputs": [],
   "source": [
    "plt.bar([0,1], np.array([n_mw_tw, n_mw_tl])/(n_mw_tw+n_mw_tl), width=0.5)"
   ]
  },
  {
   "cell_type": "code",
   "execution_count": null,
   "id": "561124b2",
   "metadata": {},
   "outputs": [],
   "source": [
    "num_ht = df_main[(df_main.toss==\"home\")].shape[0]\n",
    "num_at = df_main[(df_main.toss==\"away\")].shape[0]\n",
    "print(num_ht, num_at)"
   ]
  },
  {
   "cell_type": "code",
   "execution_count": null,
   "id": "fcfebb4b",
   "metadata": {},
   "outputs": [],
   "source": [
    "print(num_home_wins/num_away_wins)\n",
    "print(n_hw_ht / n_aw_ht)\n",
    "print(n_hw_at / n_aw_at)"
   ]
  },
  {
   "cell_type": "code",
   "execution_count": null,
   "id": "9d6ee5b2",
   "metadata": {},
   "outputs": [],
   "source": [
    "test_teams = df_main.home_team.drop_duplicates().to_list()"
   ]
  },
  {
   "cell_type": "code",
   "execution_count": null,
   "id": "76ae5344",
   "metadata": {},
   "outputs": [],
   "source": [
    "for team in test_teams:\n",
    "    num_matches = df_main[df_main.home_team==team].shape[0]\n",
    "    num_draws = df_main[(df_main.home_team==team) & (df_main.result == \"draw\")].shape[0]\n",
    "    num_hws = df_main[(df_main.home_team==team) & (df_main.result == \"home\")].shape[0]\n",
    "    num_aws = df_main[(df_main.home_team==team) & (df_main.result == \"away\")].shape[0]\n",
    "    print(team,num_matches, num_hws, num_draws, num_aws)"
   ]
  },
  {
   "cell_type": "code",
   "execution_count": null,
   "id": "2581aadd",
   "metadata": {},
   "outputs": [],
   "source": [
    "rank_diff = df_main.home_rank - df_main.away_rank\n",
    "rank_diff = np.where(rank_diff<0,1,-1)"
   ]
  },
  {
   "cell_type": "code",
   "execution_count": null,
   "id": "f0ecaaa6",
   "metadata": {},
   "outputs": [],
   "source": [
    "df_main[\"rank_diff\"]=rank_diff\n",
    "print(df_main.head())\n",
    "all_rank_diffs = df_main.rank_diff.drop_duplicates().to_list()"
   ]
  },
  {
   "cell_type": "code",
   "execution_count": null,
   "id": "86c350f3",
   "metadata": {},
   "outputs": [],
   "source": [
    "print(all_rank_diffs)"
   ]
  },
  {
   "cell_type": "code",
   "execution_count": null,
   "id": "dfcb6a41",
   "metadata": {},
   "outputs": [],
   "source": [
    "for rank_diff in all_rank_diffs:\n",
    "    num_matches = df_main[df_main.rank_diff==rank_diff].shape[0]\n",
    "    print(rank_diff,num_matches)"
   ]
  },
  {
   "cell_type": "code",
   "execution_count": null,
   "id": "566eff77",
   "metadata": {},
   "outputs": [],
   "source": [
    "high_wins = (\n",
    "    df_main[(df_main.result == \"home\") & (df_main.rank_diff == 1)].shape[0]\n",
    "    + df_main[(df_main.result == \"away\") & (df_main.rank_diff == -1)].shape[0]\n",
    ")\n",
    "low_wins = (\n",
    "    df_main[(df_main.result == \"home\") & (df_main.rank_diff == -1)].shape[0]\n",
    "    + df_main[(df_main.result == \"away\") & (df_main.rank_diff == 1)].shape[0]\n",
    ")\n",
    "print(high_wins, low_wins, num_draws)"
   ]
  },
  {
   "cell_type": "code",
   "execution_count": null,
   "id": "94aa9857",
   "metadata": {},
   "outputs": [],
   "source": [
    "plt.bar([-1,0,1],np.array([high_wins, low_wins, num_draws]),width=0.2)\n",
    "plt.bar([-0.8,0.2,1.2],np.array([num_home_wins, num_away_wins, num_draws]),width=0.2)\n",
    "plt.bar([-0.6,0.4,1.4],np.array([n_mw_tw, n_mw_tl, num_draws]),width=0.2)\n",
    "num_wl = tot-num_draws\n",
    "expt_w = num_wl/2\n",
    "plt.plot([-1.1,-0.5],[expt_w,expt_w],color='k',ls='--')"
   ]
  },
  {
   "cell_type": "code",
   "execution_count": null,
   "id": "9a09a27c",
   "metadata": {},
   "outputs": [],
   "source": [
    "from scipy import stats\n",
    "p_home = stats.binom_test(num_home_wins,num_wl,0.5)\n",
    "p_toss = stats.binom_test(n_mw_tw,num_wl,0.5)\n",
    "p_high_rank = stats.binom_test(high_wins,num_wl,0.5)\n",
    "print(p_home, p_toss, p_high_rank)"
   ]
  },
  {
   "cell_type": "code",
   "execution_count": null,
   "id": "679ac286",
   "metadata": {},
   "outputs": [],
   "source": []
  }
 ],
 "metadata": {
  "kernelspec": {
   "display_name": "Python 3 (ipykernel)",
   "language": "python",
   "name": "python3"
  },
  "language_info": {
   "codemirror_mode": {
    "name": "ipython",
    "version": 3
   },
   "file_extension": ".py",
   "mimetype": "text/x-python",
   "name": "python",
   "nbconvert_exporter": "python",
   "pygments_lexer": "ipython3",
   "version": "3.8.10"
  }
 },
 "nbformat": 4,
 "nbformat_minor": 5
}
